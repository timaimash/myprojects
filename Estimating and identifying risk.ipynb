{
 "cells": [
  {
   "cell_type": "markdown",
   "metadata": {},
   "source": [
    "## 3. Estimating and identifying risk"
   ]
  },
  {
   "cell_type": "code",
   "execution_count": 1,
   "metadata": {},
   "outputs": [],
   "source": [
    "# Importing required modules\n",
    "import pandas as pd\n",
    "import numpy as np\n",
    "import matplotlib.pyplot as plt\n",
    "import pandas_datareader.data as web\n",
    "from scipy.stats import norm, anderson"
   ]
  },
  {
   "cell_type": "code",
   "execution_count": 2,
   "metadata": {},
   "outputs": [],
   "source": [
    "#upload\n",
    "tickers=['GS','C','JPM','BAC']\n",
    "start_date='2005-01-01'\n",
    "end_date='2010-12-31'"
   ]
  },
  {
   "cell_type": "code",
   "execution_count": 3,
   "metadata": {},
   "outputs": [],
   "source": [
    "df = web.DataReader(tickers,'yahoo',start=start_date,end=end_date)\n",
    "stocks=df['Close']"
   ]
  },
  {
   "cell_type": "code",
   "execution_count": 4,
   "metadata": {},
   "outputs": [],
   "source": [
    "stock_returns=stocks.pct_change().dropna()\n",
    "weight=[0.25,0.25,0.25,0.25]"
   ]
  },
  {
   "cell_type": "code",
   "execution_count": 5,
   "metadata": {},
   "outputs": [],
   "source": [
    "portfolio_losses=stock_returns@weight"
   ]
  },
  {
   "cell_type": "markdown",
   "metadata": {},
   "source": [
    "Parameter estimation: Normal <br>\n",
    "Is a Normal distribution a good fit? You'll test this with the scipy.stats.anderson Anderson-Darling test. If the test result is statistically different from zero, this indicates the data is not Normally distributed. You'll address this in the next exercise."
   ]
  },
  {
   "cell_type": "code",
   "execution_count": 6,
   "metadata": {},
   "outputs": [
    {
     "name": "stdout",
     "output_type": "stream",
     "text": [
      "VaR_95, Normal distribution:  0.0555493663974691\n",
      "Anderson-Darling test result:  AndersonResult(statistic=92.92325946879873, critical_values=array([0.574, 0.654, 0.785, 0.916, 1.089]), significance_level=array([15. , 10. ,  5. ,  2.5,  1. ]))\n"
     ]
    }
   ],
   "source": [
    "# Fit portfolio losses to the Normal distribution\n",
    "params = norm.fit(portfolio_losses)\n",
    "\n",
    "# Compute the 95% VaR from the fitted distribution, using parameter estimates\n",
    "VaR_95 = norm.ppf(0.95, *params)\n",
    "print(\"VaR_95, Normal distribution: \", VaR_95)\n",
    "\n",
    "# Test the data for Normality\n",
    "print(\"Anderson-Darling test result: \", anderson(portfolio_losses))"
   ]
  },
  {
   "cell_type": "markdown",
   "metadata": {},
   "source": [
    "Parameter estimation: Skewed Normal <br>\n",
    "Now you'll parametrically estimate the 95% VaR of a loss distribution fit using scipy.stats's skewnorm skewed Normal distribution. This is a more general distribution than the Normal and allows losses to be non-symmetrically distributed. We might expect losses to be skewed during the crisis, when portfolio losses were more likely than gains."
   ]
  },
  {
   "cell_type": "code",
   "execution_count": 7,
   "metadata": {},
   "outputs": [
    {
     "name": "stdout",
     "output_type": "stream",
     "text": [
      "Skewtest result:  SkewtestResult(statistic=16.116236746361235, pvalue=1.9619906941433276e-58)\n",
      "VaR_95 from skew-normal:  0.05718202295457746\n"
     ]
    }
   ],
   "source": [
    "# Import the skew-normal distribution and skewness test from scipy.stats\n",
    "from scipy.stats import skewnorm, skewtest\n",
    "\n",
    "# Test the data for skewness\n",
    "print(\"Skewtest result: \", skewtest(portfolio_losses))\n",
    "\n",
    "# Fit the portfolio loss data to the skew-normal distribution\n",
    "params = skewnorm.fit(portfolio_losses)\n",
    "\n",
    "# Compute the 95% VaR from the fitted distribution, using parameter estimates\n",
    "VaR_95 = skewnorm.ppf(0.95, *params)\n",
    "print(\"VaR_95 from skew-normal: \", VaR_95)"
   ]
  },
  {
   "cell_type": "markdown",
   "metadata": {},
   "source": [
    "Historical Simulation <br>"
   ]
  },
  {
   "cell_type": "code",
   "execution_count": 8,
   "metadata": {},
   "outputs": [],
   "source": [
    "# Find the historical simulated VaR estimates\n",
    "#portfolio_losses = np.array([ x.dot(weight) for x in stock_returns])\n",
    "\n",
    "VaR_95 = [np.quantile(x, 0.95) for x in portfolio_losses]\n",
    "\n",
    "# Display the VaR estimates\n",
    "#print(\"VaR_95, 2005-2006: \", VaR_95[0], '; VaR_95, 2007-2009: ', VaR_95[1])\n",
    "\n",
    "#print(len(VaR_95))"
   ]
  },
  {
   "cell_type": "markdown",
   "metadata": {},
   "source": [
    "Monte Carlo Simulation"
   ]
  },
  {
   "cell_type": "code",
   "execution_count": 9,
   "metadata": {},
   "outputs": [
    {
     "name": "stdout",
     "output_type": "stream",
     "text": [
      "Symbols        GS         C       JPM       BAC\n",
      "Symbols                                        \n",
      "GS       0.000863  0.000864  0.000677  0.000828\n",
      "C        0.000864  0.002125  0.001069  0.001560\n",
      "JPM      0.000677  0.001069  0.001047  0.001129\n",
      "BAC      0.000828  0.001560  0.001129  0.001812\n"
     ]
    }
   ],
   "source": [
    "# Calculate covariance matrix\n",
    "# Mean returns of stock\n",
    "mean_stock_ret=stock_returns.mean()\n",
    "# Demean stock returns\n",
    "demean_stock_ret = stock_returns - mean_stock_ret\n",
    "# Cov matrix = (demean stock ret)T x (demean stock ret) / length(stock_returns)\n",
    "cov_mat = np.transpose(demean_stock_ret)@demean_stock_ret/len(stock_returns)\n",
    "#reshape mean from 1d to 4x1d\n",
    "mu=mean_stock_ret.values.reshape([4,1])\n",
    "print(cov_mat)"
   ]
  },
  {
   "cell_type": "code",
   "execution_count": 10,
   "metadata": {},
   "outputs": [
    {
     "name": "stdout",
     "output_type": "stream",
     "text": [
      "Monte Carlo VaR_95 estimate:  0.0032\n"
     ]
    }
   ],
   "source": [
    "# Initialize daily cumulative loss for the 4 assets, across N runs\n",
    "N = 10\n",
    "daily_loss = np.zeros(( 4, N))\n",
    "# 1 day = 60*8 = 480 mins\n",
    "total_steps = 480\n",
    "\n",
    "# Create the Monte Carlo simulations for N runs\n",
    "for n in range(N):\n",
    "    # Compute simulated path of length total_steps for correlated returns\n",
    "    correlated_randomness = cov_mat @ norm.rvs(size = (4,total_steps))\n",
    "    # Adjust simulated path by total_steps and mean of portfolio losses\n",
    "    steps = 1/total_steps\n",
    "    minute_losses = mu * steps + correlated_randomness * np.sqrt(steps)\n",
    "    daily_loss[:, n] = minute_losses.sum(axis=1)\n",
    "# Generate the 95% VaR estimate\n",
    "losses = weight @ daily_loss\n",
    "print(\"Monte Carlo VaR_95 estimate: \", \"{:.4f}\".format(np.quantile(losses, 0.95)))"
   ]
  },
  {
   "cell_type": "markdown",
   "metadata": {},
   "source": [
    "# Structural Breaks <br>\n",
    "Estimation techniques require stationarity <br> \n",
    "Historical: unknown stationary distribution from past data <br>\n",
    "Parametric: assumed stationary distribution class <br>\n",
    "Monte Carlo: assumed stationary distribution for random draws <br>\n",
    "\n",
    "Non-stationary=>perhaps distribution changes over time <br>\n",
    "Assume specific points in time for change <br>\n",
    "Breakup data into sub-periods <br>\n",
    "Within each sub-period,assume stationarity <br>\n",
    "Structural break(s):point(s) of change <br>\n",
    "Change in'trend'of average and/or volatility of data <br>\n"
   ]
  },
  {
   "cell_type": "code",
   "execution_count": 11,
   "metadata": {},
   "outputs": [],
   "source": [
    "# Transform the daily portfolio_returns into quarterly volatility\n",
    "vol_q = portfolio_losses.resample('Q').std()\n",
    "\n",
    "# Transform daily portfolio_returns returns into quarterly minimum returns\n",
    "port_q_min = portfolio_losses.resample('Q').min()\n",
    "\n",
    "port_q_min=port_q_min.to_frame()\n",
    "vol_q = vol_q.to_frame()"
   ]
  },
  {
   "cell_type": "code",
   "execution_count": 12,
   "metadata": {},
   "outputs": [
    {
     "data": {
      "image/png": "[encoded data removed]",
      "text/plain": [
       "<Figure size 432x288 with 1 Axes>"
      ]
     },
     "metadata": {
      "needs_background": "light"
     },
     "output_type": "display_data"
    }
   ],
   "source": [
    "# Create a plot of quarterly minimum portfolio returns\n",
    "plt.plot(port_q_min, label=\"Quarterly minimum return\")\n",
    "\n",
    "# Create a plot of quarterly mean volatility\n",
    "plt.plot(vol_q, label=\"Quarterly volatility\")\n",
    "\n",
    "# Create legend and plot\n",
    "plt.legend()\n",
    "plt.show()"
   ]
  },
  {
   "cell_type": "code",
   "execution_count": 13,
   "metadata": {},
   "outputs": [],
   "source": [
    "# mortgage delinquency rates downloaded from \n",
    "# https://fred.stlouisfed.org/series/DRSFRMACBS\n",
    "MDR = pd.read_excel('MDR.xlsx',index_col='DATE')\n",
    "#convert percent to decimals\n",
    "MDR['MDR']=MDR['MDR']/100\n",
    "mort_del=MDR.loc['2005-03-30':'2011-01-01']\n"
   ]
  },
  {
   "cell_type": "code",
   "execution_count": 63,
   "metadata": {},
   "outputs": [],
   "source": [
    "#assign same indexes to MRD\n",
    "mort_del.index=port_q_min.index\n",
    "#reshape portfolio minimum returns to correct 2 d shape\n",
    "port_q_min = np.reshape(port_q_min, (24, 1))\n"
   ]
  },
  {
   "cell_type": "code",
   "execution_count": 64,
   "metadata": {},
   "outputs": [
    {
     "name": "stdout",
     "output_type": "stream",
     "text": [
      "Sum-of-squared residuals, 2005-2010:  0.05658622019124482\n"
     ]
    }
   ],
   "source": [
    "# Import the statsmodels API to be able to run regressions\n",
    "import statsmodels.api as sm\n",
    "\n",
    "# Add a constant to the regression\n",
    "mort_del_const = sm.add_constant(mort_del)\n",
    "\n",
    "# Regress quarterly minimum portfolio returns against mortgage delinquencies\n",
    "result = sm.OLS(port_q_min, mort_del_const).fit()\n",
    "\n",
    "# Retrieve the sum-of-squared residuals\n",
    "ssr_total = result.ssr\n",
    "print(\"Sum-of-squared residuals, 2005-2010: \", ssr_total)"
   ]
  },
  {
   "cell_type": "code",
   "execution_count": 65,
   "metadata": {},
   "outputs": [
    {
     "name": "stderr",
     "output_type": "stream",
     "text": [
      "<ipython-input-65-05b77c6446e5>:3: SettingWithCopyWarning: \n",
      "A value is trying to be set on a copy of a slice from a DataFrame.\n",
      "Try using .loc[row_indexer,col_indexer] = value instead\n",
      "\n",
      "See the caveats in the documentation: https://pandas.pydata.org/pandas-docs/stable/user_guide/indexing.html#returning-a-view-versus-a-copy\n",
      "  before['returns']=port_q_min.loc['2005-03-30':'2008-07-01']\n",
      "<ipython-input-65-05b77c6446e5>:5: SettingWithCopyWarning: \n",
      "A value is trying to be set on a copy of a slice from a DataFrame.\n",
      "Try using .loc[row_indexer,col_indexer] = value instead\n",
      "\n",
      "See the caveats in the documentation: https://pandas.pydata.org/pandas-docs/stable/user_guide/indexing.html#returning-a-view-versus-a-copy\n",
      "  after['returns']=port_q_min.loc['2008-07-01':]\n"
     ]
    }
   ],
   "source": [
    "before=pd.DataFrame() \n",
    "before=mort_del.loc['2005-03-30':'2008-07-01']\n",
    "before['returns']=port_q_min.loc['2005-03-30':'2008-07-01']\n",
    "after=mort_del.loc['2008-07-01':]\n",
    "after['returns']=port_q_min.loc['2008-07-01':]"
   ]
  },
  {
   "cell_type": "code",
   "execution_count": 66,
   "metadata": {},
   "outputs": [
    {
     "name": "stdout",
     "output_type": "stream",
     "text": [
      "Chow test statistic:  21.630732386579762\n",
      "Null hypothesis is to be rejected: There is structural break.\n"
     ]
    }
   ],
   "source": [
    "# Add intercept constants to each sub-period 'before' and 'after'\n",
    "before_with_intercept = sm.add_constant(before['MDR'])\n",
    "after_with_intercept  = sm.add_constant(after['MDR'])\n",
    "\n",
    "# Fit OLS regressions to each sub-period\n",
    "r_b = sm.OLS(before['returns'], before_with_intercept).fit()\n",
    "r_a = sm.OLS(after['returns'],  after_with_intercept).fit()\n",
    "\n",
    "# Get sum-of-squared residuals for both regressions\n",
    "ssr_before = r_b.ssr\n",
    "ssr_after = r_a.ssr\n",
    "# Compute and display the Chow test statistic, 24 datapoints - 2* 2 degree of freedom\n",
    "numerator = ((ssr_total - (ssr_before + ssr_after)) / 2)\n",
    "denominator = ((ssr_before + ssr_after) / (24 - 4))\n",
    "print(\"Chow test statistic: \", numerator / denominator)\n",
    "\n",
    "if numerator/denominator > 0:\n",
    "    print(\"Null hypothesis is to be rejected: There is structural break.\")"
   ]
  },
  {
   "cell_type": "markdown",
   "metadata": {},
   "source": [
    "## Volatility and structural breaks\n",
    "Visualizing volatility changes helps reveal possible structural break points in time series.<br> By identifying when volatility appears to change, an informed choice of break point can be made that can, in turn, be used for further statistical analysis (such as the Chow test).\n"
   ]
  },
  {
   "cell_type": "markdown",
   "metadata": {},
   "source": [
    "You'll examine two visualizations of volatility for the investment bank portfolio from 2008 - 2009, for two available portfolio weights: weights_with_citi and weights_without_citi. These correspond, respectively, to equal-weighted portfolios with and without Citibank, which exhibited (as you saw in Chapter 1) the highest volatility of the four assets over the period."
   ]
  },
  {
   "cell_type": "code",
   "execution_count": 90,
   "metadata": {},
   "outputs": [],
   "source": [
    "# create portfolio without citibank\n",
    "price_without_citi = stocks.drop(columns=['C'])\n",
    "weight_no_citi = [0.333,0.333,0.334]"
   ]
  },
  {
   "cell_type": "code",
   "execution_count": 91,
   "metadata": {},
   "outputs": [],
   "source": [
    "# Find the time series of returns with and without Citibank\n",
    "ret_with_citi = stocks.pct_change().dropna().dot(weight)\n",
    "ret_without_citi = price_without_citi.pct_change().dropna().dot(weight_no_citi)"
   ]
  },
  {
   "cell_type": "code",
   "execution_count": 94,
   "metadata": {},
   "outputs": [
    {
     "data": {
      "image/png": "[encoded data removed]",
      "text/plain": [
       "<Figure size 432x288 with 1 Axes>"
      ]
     },
     "metadata": {
      "needs_background": "light"
     },
     "output_type": "display_data"
    }
   ],
   "source": [
    "# Find the average 30-day rolling window volatility as the standard deviation\n",
    "vol_with_citi = ret_with_citi.rolling(30).std().dropna().rename(\"With Citi\")\n",
    "vol_without_citi = ret_without_citi.rolling(30).std().dropna().rename(\"Without Citi\")\n",
    "#vol_with_citi = ret_with_citi.rolling(30).std().dropna()\n",
    "#vol_without_citi = ret_without_citi.rolling(30).std().dropna()\n",
    "\n",
    "# Combine two volatilities into one Pandas DataFrame\n",
    "vol = pd.concat([vol_with_citi, vol_without_citi], axis=1)\n",
    "\n",
    "# Plot volatilities over time\n",
    "vol.plot().set_ylabel(\"Losses\")\n",
    "plt.show()"
   ]
  },
  {
   "cell_type": "markdown",
   "metadata": {},
   "source": [
    "## Extreme values and backtesting\n",
    "Extreme values are those which exceed a threshold and are used to determine if risk measures such as VaR are accurately reflecting the risk of loss.<br>\n",
    "\n",
    "You'll explore extreme values by computing the 95% VaR of the equally-weighted investment bank portfolio for 2009-2010 <br>\n",
    "(recall that this is equivalent to historical simulation from 2010 onwards), and then backtesting on data from 2007-2008.<br>\n",
    "\n",
    "2009-2010 portfolio losses are available in estimate_data, from which you'll compute the 95% VaR estimate.<br>\n",
    "Then find extreme values exceeding the VaR estimate, from the 2007-2008 portfolio losses in the available backtest_data."
   ]
  },
  {
   "cell_type": "code",
   "execution_count": 95,
   "metadata": {},
   "outputs": [],
   "source": [
    "backtest_data = portfolio_losses.loc['2007-01-01':'2008-12-31']\n",
    "estimate_data = portfolio_losses.loc['2009-01-01':'2010-12-31']"
   ]
  },
  {
   "cell_type": "code",
   "execution_count": 96,
   "metadata": {},
   "outputs": [
    {
     "name": "stdout",
     "output_type": "stream",
     "text": [
      "VaR_95:  0.05173477151975916 ; Backtest:  6.349206349206349 %\n"
     ]
    },
    {
     "data": {
      "image/png": "[encoded data removed]",
      "text/plain": [
       "<Figure size 432x288 with 1 Axes>"
      ]
     },
     "metadata": {
      "needs_background": "light"
     },
     "output_type": "display_data"
    }
   ],
   "source": [
    "# Compute the 95% VaR on 2009-2010 losses\n",
    "VaR_95 = np.quantile(estimate_data, 0.95)\n",
    "\n",
    "# Use the 95% VaR to find extreme values from 2007-2008 losses\n",
    "extreme_values = backtest_data[backtest_data > VaR_95]\n",
    "\n",
    "# Compare the fraction of extreme values for 2007-2008 to the Var_95 estimate\n",
    "print(\"VaR_95: \", VaR_95, \"; Backtest: \", len(extreme_values) / len(backtest_data)*100, \"%\" )\n",
    "\n",
    "# Plot the extreme values and look for clustering\n",
    "plt.stem(extreme_values.index, extreme_values, use_line_collection = True)\n",
    "plt.ylabel(\"Extreme values > VaR_95\"); plt.xlabel(\"Date\")\n",
    "plt.show()"
   ]
  }
 ],
 "metadata": {
  "kernelspec": {
   "display_name": "Python 3",
   "language": "python",
   "name": "python3"
  },
  "language_info": {
   "codemirror_mode": {
    "name": "ipython",
    "version": 3
   },
   "file_extension": ".py",
   "mimetype": "text/x-python",
   "name": "python",
   "nbconvert_exporter": "python",
   "pygments_lexer": "ipython3",
   "version": "3.8.3"
  }
 },
 "nbformat": 4,
 "nbformat_minor": 4
}
