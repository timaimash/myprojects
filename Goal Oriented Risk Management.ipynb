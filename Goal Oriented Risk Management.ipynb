{
 "cells": [
  {
   "cell_type": "markdown",
   "metadata": {},
   "source": [
    "## 2 Goal Oriented Risk Management"
   ]
  },
  {
   "cell_type": "markdown",
   "metadata": {},
   "source": [
    "1. VaR for Normal Distribution<br>\n",
    "Value at Risk (VaR) measure helps to apply it to a known distribution. \n",
    "The Normal (or Gaussian) distribution is especially appealing as it 1) has an analytically simple form, and 2) represents a wide variety of empirical phenomena. For this exercise you'll assume that the loss of a portfolio is normally distributed, i.e., the higher the value drawn from the distribution, the higher the loss."
   ]
  },
  {
   "cell_type": "code",
   "execution_count": 122,
   "metadata": {},
   "outputs": [
    {
     "name": "stdout",
     "output_type": "stream",
     "text": [
      "95% VaR:  1.6448536269514722 ; 99% VaR:  2.317206625242927\n"
     ]
    },
    {
     "data": {
      "image/png": "[encoded data removed]",
      "text/plain": [
       "<Figure size 432x288 with 1 Axes>"
      ]
     },
     "metadata": {
      "needs_background": "light"
     },
     "output_type": "display_data"
    }
   ],
   "source": [
    "import pandas as pd\n",
    "import matplotlib.pyplot as plt\n",
    "import numpy as np\n",
    "import sympy as sy\n",
    "from scipy import stats\n",
    "from scipy.stats import norm\n",
    "from scipy.stats import gaussian_kde\n",
    "import pandas_datareader as web\n",
    "\n",
    "# Create the VaR measure at the 95% confidence level using norm.ppf()\n",
    "VaR_95 = norm.ppf(0.95)\n",
    "\n",
    "# Create the VaR measure at the 1% significance level using numpy.quantile()\n",
    "draws = norm.rvs(size = 100000)\n",
    "VaR_99 = np.quantile(draws, 0.99)\n",
    "\n",
    "# Compare the 95% and 99% VaR\n",
    "print(\"95% VaR: \", VaR_95, \"; 99% VaR: \", VaR_99)\n",
    "\n",
    "# Plot the normal distribution histogram and 95% VaR measure\n",
    "plt.hist(draws, bins = 100)\n",
    "plt.axvline(x = VaR_95, c='r', label = \"VaR at 95% Confidence Level\")\n",
    "plt.legend(); plt.show()"
   ]
  },
  {
   "cell_type": "markdown",
   "metadata": {},
   "source": [
    "Import Data"
   ]
  },
  {
   "cell_type": "code",
   "execution_count": 77,
   "metadata": {},
   "outputs": [],
   "source": [
    "#  Assets to be included in the portfolio\n",
    "tickers = ['C', 'MS', 'GS', 'JPM']\n",
    "portfolio = web.get_data_yahoo(tickers, start = '2005-01-02',end = '2010-12-30')\n",
    "portfolio = portfolio['Adj Close']\n",
    "# Ensure the prices are sorted by Date\n",
    "portfolio = portfolio.sort_values(by='Date')"
   ]
  },
  {
   "cell_type": "code",
   "execution_count": 78,
   "metadata": {},
   "outputs": [
    {
     "name": "stdout",
     "output_type": "stream",
     "text": [
      "Date\n",
      "2005-01-04   -0.009003\n",
      "2005-01-05    0.001081\n",
      "2005-01-06    0.013209\n",
      "2005-01-07   -0.005479\n",
      "2005-01-10   -0.002007\n",
      "                ...   \n",
      "2010-12-23   -0.005974\n",
      "2010-12-27    0.012551\n",
      "2010-12-28    0.000594\n",
      "2010-12-29   -0.007729\n",
      "2010-12-30   -0.000818\n",
      "Length: 1509, dtype: float64\n"
     ]
    }
   ],
   "source": [
    "# Calculate daily returns of stocks\n",
    "portfolio_returns=portfolio.pct_change().dropna()\n",
    "# Compute (4 banks equal weights) returns for 2005-2010\n",
    "weights= [0.25, 0.25, 0.25, 0.25]\n",
    "portfolio_losses=portfolio_returns@weights\n",
    "print(portfolio_losses)"
   ]
  },
  {
   "cell_type": "markdown",
   "metadata": {},
   "source": [
    "2. Compating VaR and CVaR <br>"
   ]
  },
  {
   "cell_type": "code",
   "execution_count": 79,
   "metadata": {},
   "outputs": [
    {
     "data": {
      "image/png": "[encoded data removed]",
      "text/plain": [
       "<Figure size 432x288 with 1 Axes>"
      ]
     },
     "metadata": {
      "needs_background": "light"
     },
     "output_type": "display_data"
    },
    {
     "name": "stdout",
     "output_type": "stream",
     "text": [
      "VaR_95: 0.054716781740658665 CVaR_95: 0.06851039297392884\n"
     ]
    }
   ],
   "source": [
    "#The conditional value at risk (CVaR), or expected shortfall (ES), asks what the average loss will be, \n",
    "#conditional upon losses exceeding some threshold at a certain confidence level. \n",
    "#It uses VaR as a point of departure, but contains more information because \n",
    "#it takes into consideration the tail of the loss distribution.\n",
    "\n",
    "# Compute the mean and variance of the portfolio returns\n",
    "pm = portfolio_losses.mean()\n",
    "ps = portfolio_losses.std()\n",
    "\n",
    "# Compute the 95% VaR using the .ppf()\n",
    "VaR_95 = norm.ppf(0.95, loc = pm, scale = ps)\n",
    "# Compute the expected tail loss and the CVaR in the worst 5% of cases\n",
    "# CVaR= 1/(1 / (1 - qunatile))*integral(x*f(x))|lb=quantile\n",
    "tail_loss = norm.expect(lambda x: x, loc = pm, scale = ps, lb = VaR_95)\n",
    "CVaR_95 = (1 / (1 - 0.95)) * tail_loss\n",
    "\n",
    "# Plot the normal distribution histogram and add lines for the VaR and CVaR\n",
    "plt.hist(norm.rvs(size = 100000, loc = pm, scale = ps), bins = 100)\n",
    "plt.axvline(x = VaR_95, c='r', label = \"VaR, 95% confidence level\")\n",
    "plt.axvline(x = CVaR_95, c='g', label = \"CVaR, worst 5% of outcomes\")\n",
    "plt.legend(); plt.show()\n",
    "print('VaR_95:', VaR_95, 'CVaR_95:', CVaR_95)"
   ]
  },
  {
   "cell_type": "markdown",
   "metadata": {},
   "source": [
    "3. VaR and CVaR Risk exposure"
   ]
  },
  {
   "cell_type": "code",
   "execution_count": 80,
   "metadata": {},
   "outputs": [
    {
     "name": "stdout",
     "output_type": "stream",
     "text": [
      "Date\n",
      "2005-01-04   -0.009003\n",
      "2005-01-05    0.001081\n",
      "2005-01-06    0.013209\n",
      "2005-01-07   -0.005479\n",
      "2005-01-10   -0.002007\n",
      "                ...   \n",
      "2010-12-23   -0.005974\n",
      "2010-12-27    0.012551\n",
      "2010-12-28    0.000594\n",
      "2010-12-29   -0.007729\n",
      "2010-12-30   -0.000818\n",
      "Length: 1509, dtype: float64\n",
      "(1509,)\n"
     ]
    }
   ],
   "source": [
    "# Import the Student's t-distribution\n",
    "from scipy.stats import t\n",
    "losses=portfolio_losses\n",
    "print(losses)\n",
    "print(losses.shape)"
   ]
  },
  {
   "cell_type": "code",
   "execution_count": 81,
   "metadata": {},
   "outputs": [
    {
     "name": "stderr",
     "output_type": "stream",
     "text": [
      "C:\\ProgramData\\Anaconda\\lib\\site-packages\\scipy\\stats\\_distn_infrastructure.py:2016: RuntimeWarning: invalid value encountered in greater\n",
      "  cond0 = self._argcheck(*args) & (scale > 0) & (loc == loc)\n"
     ]
    },
    {
     "data": {
      "image/png": "[encoded data removed]",
      "text/plain": [
       "<Figure size 432x288 with 1 Axes>"
      ]
     },
     "metadata": {
      "needs_background": "light"
     },
     "output_type": "display_data"
    }
   ],
   "source": [
    "# Create rolling window parameter list\n",
    "mu = losses.rolling(30).mean()\n",
    "sigma = losses.rolling(30).std()\n",
    "rolling_parameters = np.array([(29, mu[i], s) for i,s in enumerate(sigma)])\n",
    "#print(sigma)\n",
    "#print(rolling_parameters)\n",
    "# Compute the 99% VaR array using the rolling window parameters\n",
    "VaR_99 = np.array( [ t.ppf(0.99, *params) \n",
    "                    for params in rolling_parameters] )\n",
    "# Plot the minimum risk exposure over the 2005-2010 time period\n",
    "# risk exposure is the probability of loss (this is 1%) multiplied by the loss amount (this is the loss given by the 99% VaR).\n",
    "plt.plot(losses.index, 0.01 * VaR_99 * 100000)\n",
    "plt.xlabel('Date')\n",
    "plt.ylabel('Loss')\n",
    "plt.title('Risk exposure, initial portfolio $100000')\n",
    "plt.show()"
   ]
  },
  {
   "cell_type": "markdown",
   "metadata": {},
   "source": [
    "4. CVaR and risk exposure <br>\n",
    "\n",
    "CVaR is the expected value of loss given a minimum loss threshold. So CVaR is already in the form of a risk exposure--it is the sum (or integral) of the probability of loss in the distribution tail multiplied, by the loss amount.\n",
    "To derive the 99% CVaR, first fit a T distribution to available crisis_losses portfolio data from 2008 - 2009, using the t.fit() method. This returns the T distribution parameters p used to find the VaR with the .ppf() method.\n",
    "Next compute the 99% VaR, since it's used to find the CVaR.\n",
    "Finally compute the 99% CVaR measure using the t.expect() method, which is the same method you used to compute CVaR for the Normal distribution in an earlier exercise."
   ]
  },
  {
   "cell_type": "code",
   "execution_count": 82,
   "metadata": {},
   "outputs": [
    {
     "name": "stdout",
     "output_type": "stream",
     "text": [
      "(2.079624172414303, -0.002316115606458178, 0.02594539334442312)\n",
      "0.33199751733209226\n"
     ]
    }
   ],
   "source": [
    "# Fit the Student's t distribution to crisis losses\n",
    "p = t.fit(losses['2008-01-01':'2009-12-31'])\n",
    "print(p)\n",
    "# Compute the VaR_99 for the fitted distribution\n",
    "VaR_99 = t.ppf(0.99, *p)\n",
    "\n",
    "# Use the fitted parameters and VaR_99 to compute CVaR_99\n",
    "tail_loss = t.expect(lambda y: y, args = (p[0],), loc = p[1], scale = p[2], lb = VaR_99 )\n",
    "CVaR_99 = (1 / (1 - 0.99)) * tail_loss\n",
    "print(CVaR_99)"
   ]
  },
  {
   "cell_type": "markdown",
   "metadata": {},
   "source": [
    "5. VaR from a fitted distribution <br>\n",
    "\n",
    "Minimizing CVaR requires calculating the VaR at a confidence level, say 95%. Previously you derived the VaR as a quantile from a Normal (or Gaussian) distribution, but minimizing the CVaR more generally requires computing the quantile from a distribution that best fits the data.\n",
    "\n",
    "In this exercise a fitted loss distribution is provided, which fits losses from an equal-weighted investment bank portfolio from 2005-2010. You'll first plot this distribution using its .evaluate() method.\n",
    "\n",
    "Next use the .resample() method of the fitted object to draw a random sample of 100,000 observations from the fitted distribution.\n",
    "\n",
    "Finally, using np.quantile() on the random sample will then compute the 95% VaR."
   ]
  },
  {
   "cell_type": "code",
   "execution_count": 223,
   "metadata": {},
   "outputs": [
    {
     "data": {
      "image/png": "[encoded data removed]",
      "text/plain": [
       "<Figure size 432x288 with 1 Axes>"
      ]
     },
     "metadata": {
      "needs_background": "light"
     },
     "output_type": "display_data"
    },
    {
     "name": "stdout",
     "output_type": "stream",
     "text": [
      "0.04264630376100386\n"
     ]
    }
   ],
   "source": [
    "# Fit the kernel-density estimate pdf distribution to crisis losses\n",
    "fitted = stats.gaussian_kde(losses['2005-01-01':'2010-12-31'])\n",
    "# Visualize the fitted distribution with a plot\n",
    "x = np.linspace(-0.25,0.25,1000)\n",
    "plt.plot(x,fitted.evaluate(x))\n",
    "plt.show()\n",
    "\n",
    "# Create a random sample of 100,000 observations from the fitted distribution\n",
    "sample = fitted.resample(100000)\n",
    "\n",
    "# Compute and display the 95% VaR from the random sample\n",
    "VaR_95 = np.quantile(sample, 0.95)\n",
    "print(VaR_95)"
   ]
  },
  {
   "cell_type": "markdown",
   "metadata": {},
   "source": [
    "6. Minimizing CVaR <br>\n",
    "\n",
    "This exercise will give you practice with PyPortfolioOpt's tools for CVaR minimization as a risk management objective.\n",
    "\n",
    "You'll load the pypfopt.efficient_frontier module and retrieve the EfficientFrontier class, creating an instance of the class using the investment bank assets over the 2005 - 2010 period. You'll also load the negative_cvar() function from the pypfopt.objective_functions module.\n",
    "\n",
    "You'll then use the EfficientFrontier.custom_objective() method with negative_cvar() to find the optimal portfolio weights that minimize the CVaR.\n",
    "\n",
    "Portfolio asset returns are in the returns vector, and the efficient covariance matrix is in e_cov."
   ]
  },
  {
   "cell_type": "code",
   "execution_count": 225,
   "metadata": {},
   "outputs": [],
   "source": [
    "# Import the EfficientFrontier class\n",
    "from pypfopt.efficient_frontier import EfficientFrontier\n",
    "from pypfopt.risk_models import CovarianceShrinkage\n",
    "from scipy import integrate"
   ]
  },
  {
   "cell_type": "code",
   "execution_count": 226,
   "metadata": {},
   "outputs": [],
   "source": [
    "#Lets apply integration for kde gaussian kde function\n",
    "def cvar_integ_func(kde, x1, quant):\n",
    "\n",
    "    def f_kde(x):\n",
    "        return x*kde(x)\n",
    "\n",
    "    cvar = (1 / (1 - quant))*integrate.quad(f_kde, x1, np.inf)[0]\n",
    "\n",
    "    return cvar"
   ]
  },
  {
   "cell_type": "code",
   "execution_count": 252,
   "metadata": {},
   "outputs": [
    {
     "name": "stdout",
     "output_type": "stream",
     "text": [
      "0.08613264520311265\n"
     ]
    }
   ],
   "source": [
    "#Use the fitted parameters and VaR_95 to compute CVaR_95\n",
    "CVaR_95_KDE = cvar_integ_func(fitted, VaR_95, 0.95)\n",
    "\n",
    "print(CVaR_95_KDE)"
   ]
  },
  {
   "cell_type": "code",
   "execution_count": 253,
   "metadata": {},
   "outputs": [],
   "source": [
    "e_cov = CovarianceShrinkage(portfolio).ledoit_wolf()"
   ]
  },
  {
   "cell_type": "code",
   "execution_count": 257,
   "metadata": {},
   "outputs": [
    {
     "name": "stdout",
     "output_type": "stream",
     "text": [
      "OrderedDict([('C', 0.0), ('MS', 0.0), ('GS', 0.6284669377116536), ('JPM', 0.3715330622883464)])\n"
     ]
    }
   ],
   "source": [
    "# Create the efficient frontier instance\n",
    "#ef = EfficientFrontier(None, e_cov)\n",
    "exp_ret=np.array(portfolio_returns.max())\n",
    "ef=EfficientFrontier(exp_ret, e_cov)\n",
    "# Find the cVar-minimizing portfolio weights at the default 95% confidence level\n",
    "#optimal_weights = ef.custom_objective(CVaR_95, returns)\n",
    "optimal_weights=ef.min_volatility()\n",
    "# Display the optimal weights\n",
    "print(ef.min_volatility())"
   ]
  },
  {
   "cell_type": "markdown",
   "metadata": {},
   "source": [
    "7. Black-Scholes options pricing <br>\n",
    "\n",
    "Options are the world's most widely used derivative to help manage asset price risk. In this exercise we'll price a European call option on Citibank stock using the Black-Scholes option pricing formula.\n",
    "\n",
    "First compute the volatility sigma of Citibank returns, as the annualized standard deviation.\n",
    "\n",
    "Next use the function black_scholes(), created for this and the following exercises, to price options for two different volatility levels: sigma and two times sigma.\n",
    "\n",
    "The strike price K, i.e. the price an investor has the right (but not the obligation) to buy Citibank, is initial price at 01-jan-2005. The risk-free interest rate r is 2% and the market spot price S is latest price at 31-dec-2006, it has risen during 2 year period."
   ]
  },
  {
   "cell_type": "code",
   "execution_count": 155,
   "metadata": {},
   "outputs": [],
   "source": [
    "#lets define black scholes function\n",
    "#Source code https://aaronschlegel.me/black-scholes-formula-python.html\n",
    "\n",
    "def black_scholes(S, K, T, r, sigma, option = 'call'):\n",
    "    \n",
    "    #S: spot price\n",
    "    #K: strike price\n",
    "    #T: time to maturity\n",
    "    #r: interest rate\n",
    "    #sigma: volatility of underlying asset\n",
    "    \n",
    "    d1 = (np.log(S / K) + (r + 0.5 * sigma ** 2) * T) / (sigma * np.sqrt(T))\n",
    "    d2 = (np.log(S / K) + (r - 0.5 * sigma ** 2) * T) / (sigma * np.sqrt(T))\n",
    "    \n",
    "    if option == 'call':\n",
    "        result = (S * norm.cdf(d1, 0.0, 1.0) - K * np.exp(-r * T) * norm.cdf(d2, 0.0, 1.0))\n",
    "    if option == 'put':\n",
    "        result = (K * np.exp(-r * T) * norm.cdf(-d2, 0.0, 1.0) - S * norm.cdf(-d1, 0.0, 1.0))\n",
    "        \n",
    "    return result"
   ]
  },
  {
   "cell_type": "code",
   "execution_count": 198,
   "metadata": {},
   "outputs": [
    {
     "name": "stdout",
     "output_type": "stream",
     "text": [
      "Date\n",
      "2006-07-03    385.028656\n",
      "Name: C, dtype: float64\n",
      "Date\n",
      "2006-12-29    446.763458\n",
      "Name: C, dtype: float64\n"
     ]
    }
   ],
   "source": [
    "#lets use citi returns before crisis\n",
    "citi_before=portfolio['C']['2005-01-01':'2006-06-30']\n",
    "citi_returns=citi_before.pct_change().dropna()\n",
    "\n",
    "# Compute the volatility as the annualized standard deviation of Citi returns\n",
    "sigma = np.sqrt(252) * citi_returns.std()\n",
    "\n",
    "citi=portfolio['C']['2006-07-01':'2007-01-01']\n",
    "#print(citi.head(1))\n",
    "#strike price\n",
    "citi_x=citi.head(1)\n",
    "#spot_price\n",
    "citi_s=citi.tail(1)\n",
    "print(citi_x)\n",
    "print(citi_s)\n",
    "#pass only value without index to scholes fromula below\n",
    "citi_x=citi_x.to_numpy()\n",
    "citi_s=citi_s.to_numpy()"
   ]
  },
  {
   "cell_type": "code",
   "execution_count": 199,
   "metadata": {},
   "outputs": [
    {
     "name": "stdout",
     "output_type": "stream",
     "text": [
      "Option value for sigma:  66.29964279731769 \n",
      " Option value for 2 * sigma:  74.19128141008872\n"
     ]
    }
   ],
   "source": [
    "# Compute the Black-Scholes option price for this volatility\n",
    "value_s = black_scholes(S = citi_s[0], K = citi_x[0], T = 0.5, r = 0.02, \n",
    "                        sigma = sigma, option = \"call\")\n",
    "\n",
    "# Compute the Black-Scholes option price for twice the volatility\n",
    "value_2s = black_scholes(S = citi_s[0], K = citi_x[0], T = 0.5, r = 0.02, \n",
    "                sigma = 2*sigma, option = \"call\")\n",
    "\n",
    "# Display and compare both values\n",
    "print(\"Option value for sigma: \", value_s, \"\\n\",\n",
    "      \"Option value for 2 * sigma: \", value_2s)"
   ]
  },
  {
   "cell_type": "markdown",
   "metadata": {},
   "source": [
    "8. Options pricing and the underlying asset\n",
    "\n",
    "Options are essentially bets on the future evolution of the underlying asset's price.\n",
    "\n",
    "For example, a put option is valuable when the spot (market) price falls below the option's strike price. The option holder may exercise the option to sell the underlying at the strike X, and buy it back at the spot S < X, yielding profit X-S.\n",
    "\n",
    "In this exercise you'll value and visualize a European put option on Citibank stock, again applying the Black-Scholes pricing formula, as the spot S changes.\n",
    "\n",
    "The strike X = 140, the time to maturity T is 1/2 a year, and the risk-free interest rate is 2%."
   ]
  },
  {
   "cell_type": "code",
   "execution_count": 200,
   "metadata": {},
   "outputs": [
    {
     "data": {
      "image/png": "[encoded data removed]",
      "text/plain": [
       "<Figure size 432x288 with 1 Axes>"
      ]
     },
     "metadata": {
      "needs_background": "light"
     },
     "output_type": "display_data"
    }
   ],
   "source": [
    "citi=portfolio['C']['2007-01-01':]\n",
    "plt.plot(citi)\n",
    "plt.show()\n",
    "citi_x=portfolio['C']['2007-01-01':].max()\n",
    "citi=np.array(citi)"
   ]
  },
  {
   "cell_type": "code",
   "execution_count": 201,
   "metadata": {},
   "outputs": [],
   "source": [
    "# Select the first 100 observations of Citi data\n",
    "#IBM_spot = IBM[:100]\n",
    "\n",
    "# Initialize the European put option values array\n",
    "option_values = np.zeros(citi.size)\n",
    "\n",
    "# Iterate through IBM's spot price and compute the option values\n",
    "for i,S in enumerate(citi):\n",
    "    option_values[i] = black_scholes(S = S, K = citi_x, T = 0.5, r = 0.02, \n",
    "                        sigma = sigma, option = \"put\")"
   ]
  },
  {
   "cell_type": "code",
   "execution_count": 202,
   "metadata": {},
   "outputs": [
    {
     "data": {
      "image/png": "[encoded data removed]",
      "text/plain": [
       "<Figure size 432x288 with 1 Axes>"
      ]
     },
     "metadata": {
      "needs_background": "light"
     },
     "output_type": "display_data"
    }
   ],
   "source": [
    "# Display the option values\n",
    "plt.plot(option_values, color = \"red\", label = \"Put Option\")\n",
    "plt.plot(citi, color = \"blue\", label = \"Citibank\")\n",
    "plt.legend(loc = \"center right\")\n",
    "plt.ylabel('Price USD')\n",
    "plt.xlabel('Time')\n",
    "plt.show()"
   ]
  },
  {
   "cell_type": "markdown",
   "metadata": {},
   "source": [
    "9.Using options for hedging\n",
    "\n",
    "Suppose that you have an investment portfolio with one asset. You'll hedge the portfolio's risk using delta hedging with a European put option on this asset.\n",
    "\n",
    "First, value the European put option using the Black-Scholes option pricing formula, with a strike X of 80 and a time to maturity T of 1/2 a year. The risk-free interest rate is 2% and the spot S is initially 70.\n",
    "\n",
    "Then create a delta hedge by computing the delta of the option with the bs_delta() function, and use it to hedge against a change in the stock price to 69.5. The result is a delta neutral portfolio of both the option and the stock."
   ]
  },
  {
   "cell_type": "code",
   "execution_count": null,
   "metadata": {},
   "outputs": [],
   "source": [
    "# Compute the annualized standard deviation of `IBM` returns\n",
    "sigma = np.sqrt(252) * IBM_returns.std()\n",
    "\n",
    "# Compute the Black-Scholes value at IBM spot price 70\n",
    "value = black_scholes(S = 70, X = 80, T = 0.5, r = 0.02, \n",
    "                      sigma = sigma, option_type = \"put\")\n",
    "# Find the delta of the option at IBM spot price 70\n",
    "delta = bs_delta(S = 70, X = 80, T = 0.5, r = 0.02, \n",
    "                 sigma = sigma, option_type = \"put\")\n",
    "\n",
    "# Find the option value change when the price of IBM falls to 69.5\n",
    "value_change = black_scholes(S = 69.5, X = 80, T = 0.5, r = 0.02, \n",
    "                             sigma = sigma, option_type = \"put\") - value\n",
    "\n",
    "print( (69.5 - 70) + (1/delta) * value_change )"
   ]
  }
 ],
 "metadata": {
  "kernelspec": {
   "display_name": "Python 3",
   "language": "python",
   "name": "python3"
  },
  "language_info": {
   "codemirror_mode": {
    "name": "ipython",
    "version": 3
   },
   "file_extension": ".py",
   "mimetype": "text/x-python",
   "name": "python",
   "nbconvert_exporter": "python",
   "pygments_lexer": "ipython3",
   "version": "3.8.3"
  }
 },
 "nbformat": 4,
 "nbformat_minor": 4
}
