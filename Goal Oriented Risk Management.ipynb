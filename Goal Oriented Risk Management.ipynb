{
 "cells": [
  {
   "cell_type": "markdown",
   "metadata": {},
   "source": [
    "## 2 Goal Oriented Risk Management"
   ]
  },
  {
   "cell_type": "markdown",
   "metadata": {},
   "source": [
    "1. VaR for Normal Distribution"
   ]
  },
  {
   "cell_type": "code",
   "execution_count": 4,
   "metadata": {},
   "outputs": [
    {
     "name": "stdout",
     "output_type": "stream",
     "text": [
      "95% VaR:  1.6448536269514722 ; 99% VaR:  2.2984914645286385\n"
     ]
    },
    {
     "data": {
      "image/png": "[encoded data removed]",
      "text/plain": [
       "<Figure size 432x288 with 1 Axes>"
      ]
     },
     "metadata": {
      "needs_background": "light"
     },
     "output_type": "display_data"
    }
   ],
   "source": [
    "import pandas as pd\n",
    "import matplotlib.pyplot as plt\n",
    "import numpy as np\n",
    "from scipy.stats import norm\n",
    "import pandas_datareader as web\n",
    "\n",
    "# Create the VaR measure at the 95% confidence level using norm.ppf()\n",
    "VaR_95 = norm.ppf(0.95)\n",
    "\n",
    "# Create the VaR measure at the 5% significance level using numpy.quantile()\n",
    "draws = norm.rvs(size = 100000)\n",
    "VaR_99 = np.quantile(draws, 0.99)\n",
    "\n",
    "# Compare the 95% and 99% VaR\n",
    "print(\"95% VaR: \", VaR_95, \"; 99% VaR: \", VaR_99)\n",
    "\n",
    "# Plot the normal distribution histogram and 95% VaR measure\n",
    "plt.hist(draws, bins = 100)\n",
    "plt.axvline(x = VaR_95, c='r', label = \"VaR at 95% Confidence Level\")\n",
    "plt.legend(); plt.show()"
   ]
  },
  {
   "cell_type": "markdown",
   "metadata": {},
   "source": [
    "Import Data"
   ]
  },
  {
   "cell_type": "code",
   "execution_count": 37,
   "metadata": {},
   "outputs": [],
   "source": [
    "#  Assets to be included in the portfolio\n",
    "tickers = ['C', 'MS', 'GS', 'JPM']\n",
    "portfolio = web.get_data_yahoo(tickers, start = '2005-01-02',end = '2010-12-30')\n",
    "portfolio = portfolio['Adj Close']\n",
    "# Ensure the prices are sorted by Date\n",
    "portfolio = portfolio.sort_values(by='Date')"
   ]
  },
  {
   "cell_type": "code",
   "execution_count": 75,
   "metadata": {},
   "outputs": [
    {
     "name": "stdout",
     "output_type": "stream",
     "text": [
      "Date\n",
      "2005-01-04   -0.009003\n",
      "2005-01-05    0.001081\n",
      "2005-01-06    0.013209\n",
      "2005-01-07   -0.005479\n",
      "2005-01-10   -0.002007\n",
      "                ...   \n",
      "2010-12-23   -0.005974\n",
      "2010-12-27    0.012551\n",
      "2010-12-28    0.000594\n",
      "2010-12-29   -0.007729\n",
      "2010-12-30   -0.000818\n",
      "Length: 1509, dtype: float64\n"
     ]
    }
   ],
   "source": [
    "# Calculate daily returns of stocks\n",
    "portfolio_returns=portfolio.pct_change().dropna()\n",
    "# Compute (4 banks equal weights) returns for 2005-2010\n",
    "weights= [0.25, 0.25, 0.25, 0.25]\n",
    "portfolio_losses=portfolio_returns@weights\n",
    "print(portfolio_losses)"
   ]
  },
  {
   "cell_type": "markdown",
   "metadata": {},
   "source": [
    "2. Compating VaR and CVaR <br>"
   ]
  },
  {
   "cell_type": "code",
   "execution_count": 76,
   "metadata": {},
   "outputs": [
    {
     "data": {
      "image/png": "[encoded data removed]",
      "text/plain": [
       "<Figure size 432x288 with 1 Axes>"
      ]
     },
     "metadata": {
      "needs_background": "light"
     },
     "output_type": "display_data"
    },
    {
     "name": "stdout",
     "output_type": "stream",
     "text": [
      "VaR_95: 0.0547167827014033 CVaR_95: 0.06851039419078216\n"
     ]
    }
   ],
   "source": [
    "#The conditional value at risk (CVaR), or expected shortfall (ES), asks what the average loss will be, \n",
    "#conditional upon losses exceeding some threshold at a certain confidence level. \n",
    "#It uses VaR as a point of departure, but contains more information because \n",
    "#it takes into consideration the tail of the loss distribution.\n",
    "\n",
    "# Compute the mean and variance of the portfolio returns\n",
    "pm = portfolio_losses.mean()\n",
    "ps = portfolio_losses.std()\n",
    "\n",
    "# Compute the 95% VaR using the .ppf()\n",
    "VaR_95 = norm.ppf(0.95, loc = pm, scale = ps)\n",
    "# Compute the expected tail loss and the CVaR in the worst 5% of cases\n",
    "# CVaR= 1/(1 / (1 - qunatile))*integral(x*f(x))|lb=quantile\n",
    "tail_loss = norm.expect(lambda x: x, loc = pm, scale = ps, lb = VaR_95)\n",
    "CVaR_95 = (1 / (1 - 0.95)) * tail_loss\n",
    "\n",
    "# Plot the normal distribution histogram and add lines for the VaR and CVaR\n",
    "plt.hist(norm.rvs(size = 100000, loc = pm, scale = ps), bins = 100)\n",
    "plt.axvline(x = VaR_95, c='r', label = \"VaR, 95% confidence level\")\n",
    "plt.axvline(x = CVaR_95, c='g', label = \"CVaR, worst 5% of outcomes\")\n",
    "plt.legend(); plt.show()\n",
    "print('VaR_95:', VaR_95, 'CVaR_95:', CVaR_95)"
   ]
  },
  {
   "cell_type": "markdown",
   "metadata": {},
   "source": [
    "3. VaR and CVaR Risk exposure"
   ]
  },
  {
   "cell_type": "code",
   "execution_count": 86,
   "metadata": {},
   "outputs": [
    {
     "name": "stdout",
     "output_type": "stream",
     "text": [
      "<class 'pandas.core.frame.DataFrame'>\n",
      "DatetimeIndex: 1509 entries, 2005-01-04 to 2010-12-30\n",
      "Data columns (total 1 columns):\n",
      " #   Column  Non-Null Count  Dtype  \n",
      "---  ------  --------------  -----  \n",
      " 0   0       1509 non-null   float64\n",
      "dtypes: float64(1)\n",
      "memory usage: 23.6 KB\n",
      "None\n",
      "DatetimeIndex(['2005-01-04', '2005-01-05', '2005-01-06', '2005-01-07',\n",
      "               '2005-01-10', '2005-01-11', '2005-01-12', '2005-01-13',\n",
      "               '2005-01-14', '2005-01-18',\n",
      "               ...\n",
      "               '2010-12-16', '2010-12-17', '2010-12-20', '2010-12-21',\n",
      "               '2010-12-22', '2010-12-23', '2010-12-27', '2010-12-28',\n",
      "               '2010-12-29', '2010-12-30'],\n",
      "              dtype='datetime64[ns]', name='Date', length=1509, freq=None)\n"
     ]
    }
   ],
   "source": [
    "# Import the Student's t-distribution\n",
    "from scipy.stats import t\n",
    "#portfolio_losses.columns=['Date','Loss']\n",
    "#print(portfolio_losses.columns)\n",
    "#losses=pd.DataFrame({'Date':portfolio_losses.index, 'loss':portfolio_losses['Loss']})\n",
    "losses=pd.DataFrame(portfolio_losses)\n",
    "print(losses.info())\n",
    "#portfolio_losses.to_frame(name='Loss')\n",
    "#losses.set_index('Date', inplace=True)\n",
    "print(losses.index)"
   ]
  },
  {
   "cell_type": "code",
   "execution_count": 97,
   "metadata": {},
   "outputs": [
    {
     "name": "stdout",
     "output_type": "stream",
     "text": [
      "                   0\n",
      "Date                \n",
      "2005-01-04       NaN\n",
      "2005-01-05       NaN\n",
      "2005-01-06       NaN\n",
      "2005-01-07       NaN\n",
      "2005-01-10       NaN\n",
      "...              ...\n",
      "2010-12-23  0.014258\n",
      "2010-12-27  0.014279\n",
      "2010-12-28  0.013859\n",
      "2010-12-29  0.013883\n",
      "2010-12-30  0.013506\n",
      "\n",
      "[1509 rows x 1 columns]\n",
      "[(29, Date\n",
      "2005-01-04         NaN\n",
      "2005-01-05         NaN\n",
      "2005-01-06         NaN\n",
      "2005-01-07         NaN\n",
      "2005-01-10         NaN\n",
      "                ...   \n",
      "2010-12-23    0.001197\n",
      "2010-12-27    0.001902\n",
      "2010-12-28    0.002469\n",
      "2010-12-29    0.001844\n",
      "2010-12-30    0.002332\n",
      "Name: 0, Length: 1509, dtype: float64, 0)]\n"
     ]
    },
    {
     "name": "stderr",
     "output_type": "stream",
     "text": [
      "C:\\ProgramData\\Anaconda\\lib\\site-packages\\scipy\\stats\\_distn_infrastructure.py:2023: RuntimeWarning: invalid value encountered in multiply\n",
      "  lower_bound = _a * scale + loc\n",
      "C:\\ProgramData\\Anaconda\\lib\\site-packages\\scipy\\stats\\_distn_infrastructure.py:2024: RuntimeWarning: invalid value encountered in multiply\n",
      "  upper_bound = _b * scale + loc\n"
     ]
    },
    {
     "ename": "ValueError",
     "evalue": "x and y must have same first dimension, but have shapes (1509,) and (1, 1509)",
     "output_type": "error",
     "traceback": [
      "\u001b[1;31m---------------------------------------------------------------------------\u001b[0m",
      "\u001b[1;31mValueError\u001b[0m                                Traceback (most recent call last)",
      "\u001b[1;32m<ipython-input-97-6b0c340b32b6>\u001b[0m in \u001b[0;36m<module>\u001b[1;34m\u001b[0m\n\u001b[0;32m     10\u001b[0m \u001b[1;33m\u001b[0m\u001b[0m\n\u001b[0;32m     11\u001b[0m \u001b[1;31m# Plot the minimum risk exposure over the 2005-2010 time period\u001b[0m\u001b[1;33m\u001b[0m\u001b[1;33m\u001b[0m\u001b[1;33m\u001b[0m\u001b[0m\n\u001b[1;32m---> 12\u001b[1;33m \u001b[0mplt\u001b[0m\u001b[1;33m.\u001b[0m\u001b[0mplot\u001b[0m\u001b[1;33m(\u001b[0m\u001b[0mlosses\u001b[0m\u001b[1;33m.\u001b[0m\u001b[0mindex\u001b[0m\u001b[1;33m,\u001b[0m \u001b[1;36m0.01\u001b[0m \u001b[1;33m*\u001b[0m \u001b[0mVaR_99\u001b[0m \u001b[1;33m*\u001b[0m \u001b[1;36m100000\u001b[0m\u001b[1;33m)\u001b[0m\u001b[1;33m\u001b[0m\u001b[1;33m\u001b[0m\u001b[0m\n\u001b[0m\u001b[0;32m     13\u001b[0m \u001b[0mplt\u001b[0m\u001b[1;33m.\u001b[0m\u001b[0mshow\u001b[0m\u001b[1;33m(\u001b[0m\u001b[1;33m)\u001b[0m\u001b[1;33m\u001b[0m\u001b[1;33m\u001b[0m\u001b[0m\n",
      "\u001b[1;32mC:\\ProgramData\\Anaconda\\lib\\site-packages\\matplotlib\\pyplot.py\u001b[0m in \u001b[0;36mplot\u001b[1;34m(scalex, scaley, data, *args, **kwargs)\u001b[0m\n\u001b[0;32m   2759\u001b[0m \u001b[1;33m@\u001b[0m\u001b[0mdocstring\u001b[0m\u001b[1;33m.\u001b[0m\u001b[0mcopy\u001b[0m\u001b[1;33m(\u001b[0m\u001b[0mAxes\u001b[0m\u001b[1;33m.\u001b[0m\u001b[0mplot\u001b[0m\u001b[1;33m)\u001b[0m\u001b[1;33m\u001b[0m\u001b[1;33m\u001b[0m\u001b[0m\n\u001b[0;32m   2760\u001b[0m \u001b[1;32mdef\u001b[0m \u001b[0mplot\u001b[0m\u001b[1;33m(\u001b[0m\u001b[1;33m*\u001b[0m\u001b[0margs\u001b[0m\u001b[1;33m,\u001b[0m \u001b[0mscalex\u001b[0m\u001b[1;33m=\u001b[0m\u001b[1;32mTrue\u001b[0m\u001b[1;33m,\u001b[0m \u001b[0mscaley\u001b[0m\u001b[1;33m=\u001b[0m\u001b[1;32mTrue\u001b[0m\u001b[1;33m,\u001b[0m \u001b[0mdata\u001b[0m\u001b[1;33m=\u001b[0m\u001b[1;32mNone\u001b[0m\u001b[1;33m,\u001b[0m \u001b[1;33m**\u001b[0m\u001b[0mkwargs\u001b[0m\u001b[1;33m)\u001b[0m\u001b[1;33m:\u001b[0m\u001b[1;33m\u001b[0m\u001b[1;33m\u001b[0m\u001b[0m\n\u001b[1;32m-> 2761\u001b[1;33m     return gca().plot(\n\u001b[0m\u001b[0;32m   2762\u001b[0m         *args, scalex=scalex, scaley=scaley, **({\"data\": data} if data\n\u001b[0;32m   2763\u001b[0m         is not None else {}), **kwargs)\n",
      "\u001b[1;32mC:\\ProgramData\\Anaconda\\lib\\site-packages\\matplotlib\\axes\\_axes.py\u001b[0m in \u001b[0;36mplot\u001b[1;34m(self, scalex, scaley, data, *args, **kwargs)\u001b[0m\n\u001b[0;32m   1645\u001b[0m         \"\"\"\n\u001b[0;32m   1646\u001b[0m         \u001b[0mkwargs\u001b[0m \u001b[1;33m=\u001b[0m \u001b[0mcbook\u001b[0m\u001b[1;33m.\u001b[0m\u001b[0mnormalize_kwargs\u001b[0m\u001b[1;33m(\u001b[0m\u001b[0mkwargs\u001b[0m\u001b[1;33m,\u001b[0m \u001b[0mmlines\u001b[0m\u001b[1;33m.\u001b[0m\u001b[0mLine2D\u001b[0m\u001b[1;33m)\u001b[0m\u001b[1;33m\u001b[0m\u001b[1;33m\u001b[0m\u001b[0m\n\u001b[1;32m-> 1647\u001b[1;33m         \u001b[0mlines\u001b[0m \u001b[1;33m=\u001b[0m \u001b[1;33m[\u001b[0m\u001b[1;33m*\u001b[0m\u001b[0mself\u001b[0m\u001b[1;33m.\u001b[0m\u001b[0m_get_lines\u001b[0m\u001b[1;33m(\u001b[0m\u001b[1;33m*\u001b[0m\u001b[0margs\u001b[0m\u001b[1;33m,\u001b[0m \u001b[0mdata\u001b[0m\u001b[1;33m=\u001b[0m\u001b[0mdata\u001b[0m\u001b[1;33m,\u001b[0m \u001b[1;33m**\u001b[0m\u001b[0mkwargs\u001b[0m\u001b[1;33m)\u001b[0m\u001b[1;33m]\u001b[0m\u001b[1;33m\u001b[0m\u001b[1;33m\u001b[0m\u001b[0m\n\u001b[0m\u001b[0;32m   1648\u001b[0m         \u001b[1;32mfor\u001b[0m \u001b[0mline\u001b[0m \u001b[1;32min\u001b[0m \u001b[0mlines\u001b[0m\u001b[1;33m:\u001b[0m\u001b[1;33m\u001b[0m\u001b[1;33m\u001b[0m\u001b[0m\n\u001b[0;32m   1649\u001b[0m             \u001b[0mself\u001b[0m\u001b[1;33m.\u001b[0m\u001b[0madd_line\u001b[0m\u001b[1;33m(\u001b[0m\u001b[0mline\u001b[0m\u001b[1;33m)\u001b[0m\u001b[1;33m\u001b[0m\u001b[1;33m\u001b[0m\u001b[0m\n",
      "\u001b[1;32mC:\\ProgramData\\Anaconda\\lib\\site-packages\\matplotlib\\axes\\_base.py\u001b[0m in \u001b[0;36m__call__\u001b[1;34m(self, *args, **kwargs)\u001b[0m\n\u001b[0;32m    214\u001b[0m                 \u001b[0mthis\u001b[0m \u001b[1;33m+=\u001b[0m \u001b[0margs\u001b[0m\u001b[1;33m[\u001b[0m\u001b[1;36m0\u001b[0m\u001b[1;33m]\u001b[0m\u001b[1;33m,\u001b[0m\u001b[1;33m\u001b[0m\u001b[1;33m\u001b[0m\u001b[0m\n\u001b[0;32m    215\u001b[0m                 \u001b[0margs\u001b[0m \u001b[1;33m=\u001b[0m \u001b[0margs\u001b[0m\u001b[1;33m[\u001b[0m\u001b[1;36m1\u001b[0m\u001b[1;33m:\u001b[0m\u001b[1;33m]\u001b[0m\u001b[1;33m\u001b[0m\u001b[1;33m\u001b[0m\u001b[0m\n\u001b[1;32m--> 216\u001b[1;33m             \u001b[1;32myield\u001b[0m \u001b[1;32mfrom\u001b[0m \u001b[0mself\u001b[0m\u001b[1;33m.\u001b[0m\u001b[0m_plot_args\u001b[0m\u001b[1;33m(\u001b[0m\u001b[0mthis\u001b[0m\u001b[1;33m,\u001b[0m \u001b[0mkwargs\u001b[0m\u001b[1;33m)\u001b[0m\u001b[1;33m\u001b[0m\u001b[1;33m\u001b[0m\u001b[0m\n\u001b[0m\u001b[0;32m    217\u001b[0m \u001b[1;33m\u001b[0m\u001b[0m\n\u001b[0;32m    218\u001b[0m     \u001b[1;32mdef\u001b[0m \u001b[0mget_next_color\u001b[0m\u001b[1;33m(\u001b[0m\u001b[0mself\u001b[0m\u001b[1;33m)\u001b[0m\u001b[1;33m:\u001b[0m\u001b[1;33m\u001b[0m\u001b[1;33m\u001b[0m\u001b[0m\n",
      "\u001b[1;32mC:\\ProgramData\\Anaconda\\lib\\site-packages\\matplotlib\\axes\\_base.py\u001b[0m in \u001b[0;36m_plot_args\u001b[1;34m(self, tup, kwargs)\u001b[0m\n\u001b[0;32m    340\u001b[0m \u001b[1;33m\u001b[0m\u001b[0m\n\u001b[0;32m    341\u001b[0m         \u001b[1;32mif\u001b[0m \u001b[0mx\u001b[0m\u001b[1;33m.\u001b[0m\u001b[0mshape\u001b[0m\u001b[1;33m[\u001b[0m\u001b[1;36m0\u001b[0m\u001b[1;33m]\u001b[0m \u001b[1;33m!=\u001b[0m \u001b[0my\u001b[0m\u001b[1;33m.\u001b[0m\u001b[0mshape\u001b[0m\u001b[1;33m[\u001b[0m\u001b[1;36m0\u001b[0m\u001b[1;33m]\u001b[0m\u001b[1;33m:\u001b[0m\u001b[1;33m\u001b[0m\u001b[1;33m\u001b[0m\u001b[0m\n\u001b[1;32m--> 342\u001b[1;33m             raise ValueError(f\"x and y must have same first dimension, but \"\n\u001b[0m\u001b[0;32m    343\u001b[0m                              f\"have shapes {x.shape} and {y.shape}\")\n\u001b[0;32m    344\u001b[0m         \u001b[1;32mif\u001b[0m \u001b[0mx\u001b[0m\u001b[1;33m.\u001b[0m\u001b[0mndim\u001b[0m \u001b[1;33m>\u001b[0m \u001b[1;36m2\u001b[0m \u001b[1;32mor\u001b[0m \u001b[0my\u001b[0m\u001b[1;33m.\u001b[0m\u001b[0mndim\u001b[0m \u001b[1;33m>\u001b[0m \u001b[1;36m2\u001b[0m\u001b[1;33m:\u001b[0m\u001b[1;33m\u001b[0m\u001b[1;33m\u001b[0m\u001b[0m\n",
      "\u001b[1;31mValueError\u001b[0m: x and y must have same first dimension, but have shapes (1509,) and (1, 1509)"
     ]
    },
    {
     "data": {
      "image/png": "[encoded data removed]",
      "text/plain": [
       "<Figure size 432x288 with 1 Axes>"
      ]
     },
     "metadata": {
      "needs_background": "light"
     },
     "output_type": "display_data"
    }
   ],
   "source": [
    "# Create rolling window parameter list\n",
    "mu = losses.rolling(30).mean()\n",
    "sigma = losses.rolling(30).std()\n",
    "rolling_parameters = [(29, mu[i], s) for i,s in enumerate(sigma)]\n",
    "print(sigma)\n",
    "print(rolling_parameters)\n",
    "# Compute the 99% VaR array using the rolling window parameters\n",
    "VaR_99 = np.array( [ t.ppf(0.99, *params) \n",
    "                    for params in rolling_parameters] )\n",
    "\n",
    "# Plot the minimum risk exposure over the 2005-2010 time period\n",
    "plt.plot(losses.index, 0.01 * VaR_99 * 100000)\n",
    "plt.show()"
   ]
  },
  {
   "cell_type": "code",
   "execution_count": null,
   "metadata": {},
   "outputs": [],
   "source": []
  },
  {
   "cell_type": "code",
   "execution_count": null,
   "metadata": {},
   "outputs": [],
   "source": []
  }
 ],
 "metadata": {
  "kernelspec": {
   "display_name": "Python 3",
   "language": "python",
   "name": "python3"
  },
  "language_info": {
   "codemirror_mode": {
    "name": "ipython",
    "version": 3
   },
   "file_extension": ".py",
   "mimetype": "text/x-python",
   "name": "python",
   "nbconvert_exporter": "python",
   "pygments_lexer": "ipython3",
   "version": "3.8.3"
  }
 },
 "nbformat": 4,
 "nbformat_minor": 4
}
